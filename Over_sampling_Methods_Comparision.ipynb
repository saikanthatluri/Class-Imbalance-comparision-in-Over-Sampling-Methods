{
  "nbformat": 4,
  "nbformat_minor": 0,
  "metadata": {
    "colab": {
      "name": "Over_sampling Methods Comparision.ipynb",
      "provenance": [],
      "collapsed_sections": [],
      "authorship_tag": "ABX9TyPOecv4wi40iYzEWCD6clXi",
      "include_colab_link": true
    },
    "kernelspec": {
      "name": "python3",
      "display_name": "Python 3"
    },
    "accelerator": "GPU"
  },
  "cells": [
    {
      "cell_type": "markdown",
      "metadata": {
        "id": "view-in-github",
        "colab_type": "text"
      },
      "source": [
        "<a href=\"https://colab.research.google.com/github/saikanthatluri/Class-Imbalance-comparision-in-Over-Sampling-Methods/blob/main/Over_sampling_Methods_Comparision.ipynb\" target=\"_parent\"><img src=\"https://colab.research.google.com/assets/colab-badge.svg\" alt=\"Open In Colab\"/></a>"
      ]
    },
    {
      "cell_type": "markdown",
      "metadata": {
        "id": "HKjYOXZV0l3Z"
      },
      "source": [
        "Comparision of different over-sampling algorithms to improve the performance of Random Forests on different datasets with imbalanced classes.\r\n",
        "\r\n",
        "\r\n"
      ]
    },
    {
      "cell_type": "markdown",
      "metadata": {
        "id": "_QPcvSt5spfQ"
      },
      "source": [
        "**Importing Libraries**"
      ]
    },
    {
      "cell_type": "code",
      "metadata": {
        "colab": {
          "base_uri": "https://localhost:8080/"
        },
        "id": "4DTlw1YDtRam",
        "outputId": "b340d2da-27cf-41ea-da10-12965a2124e9"
      },
      "source": [
        "!pip install -U imbalanced-learn"
      ],
      "execution_count": 1,
      "outputs": [
        {
          "output_type": "stream",
          "text": [
            "Collecting imbalanced-learn\n",
            "\u001b[?25l  Downloading https://files.pythonhosted.org/packages/c8/81/8db4d87b03b998fda7c6f835d807c9ae4e3b141f978597b8d7f31600be15/imbalanced_learn-0.7.0-py3-none-any.whl (167kB)\n",
            "\r\u001b[K     |██                              | 10kB 27.6MB/s eta 0:00:01\r\u001b[K     |████                            | 20kB 31.7MB/s eta 0:00:01\r\u001b[K     |█████▉                          | 30kB 17.6MB/s eta 0:00:01\r\u001b[K     |███████▉                        | 40kB 16.0MB/s eta 0:00:01\r\u001b[K     |█████████▉                      | 51kB 15.2MB/s eta 0:00:01\r\u001b[K     |███████████▊                    | 61kB 13.5MB/s eta 0:00:01\r\u001b[K     |█████████████▊                  | 71kB 13.9MB/s eta 0:00:01\r\u001b[K     |███████████████▊                | 81kB 15.1MB/s eta 0:00:01\r\u001b[K     |█████████████████▋              | 92kB 13.7MB/s eta 0:00:01\r\u001b[K     |███████████████████▋            | 102kB 12.7MB/s eta 0:00:01\r\u001b[K     |█████████████████████▋          | 112kB 12.7MB/s eta 0:00:01\r\u001b[K     |███████████████████████▌        | 122kB 12.7MB/s eta 0:00:01\r\u001b[K     |█████████████████████████▌      | 133kB 12.7MB/s eta 0:00:01\r\u001b[K     |███████████████████████████▌    | 143kB 12.7MB/s eta 0:00:01\r\u001b[K     |█████████████████████████████▍  | 153kB 12.7MB/s eta 0:00:01\r\u001b[K     |███████████████████████████████▍| 163kB 12.7MB/s eta 0:00:01\r\u001b[K     |████████████████████████████████| 174kB 12.7MB/s \n",
            "\u001b[?25hRequirement already satisfied, skipping upgrade: scipy>=0.19.1 in /usr/local/lib/python3.6/dist-packages (from imbalanced-learn) (1.4.1)\n",
            "Requirement already satisfied, skipping upgrade: numpy>=1.13.3 in /usr/local/lib/python3.6/dist-packages (from imbalanced-learn) (1.19.5)\n",
            "Requirement already satisfied, skipping upgrade: joblib>=0.11 in /usr/local/lib/python3.6/dist-packages (from imbalanced-learn) (1.0.0)\n",
            "Collecting scikit-learn>=0.23\n",
            "\u001b[?25l  Downloading https://files.pythonhosted.org/packages/e2/4c/6111b9a325f29527d7f262e2ee8c730d354b47a728d955e186dacad57a0d/scikit_learn-0.24.1-cp36-cp36m-manylinux2010_x86_64.whl (22.2MB)\n",
            "\u001b[K     |████████████████████████████████| 22.2MB 1.8MB/s \n",
            "\u001b[?25hCollecting threadpoolctl>=2.0.0\n",
            "  Downloading https://files.pythonhosted.org/packages/f7/12/ec3f2e203afa394a149911729357aa48affc59c20e2c1c8297a60f33f133/threadpoolctl-2.1.0-py3-none-any.whl\n",
            "Installing collected packages: threadpoolctl, scikit-learn, imbalanced-learn\n",
            "  Found existing installation: scikit-learn 0.22.2.post1\n",
            "    Uninstalling scikit-learn-0.22.2.post1:\n",
            "      Successfully uninstalled scikit-learn-0.22.2.post1\n",
            "  Found existing installation: imbalanced-learn 0.4.3\n",
            "    Uninstalling imbalanced-learn-0.4.3:\n",
            "      Successfully uninstalled imbalanced-learn-0.4.3\n",
            "Successfully installed imbalanced-learn-0.7.0 scikit-learn-0.24.1 threadpoolctl-2.1.0\n"
          ],
          "name": "stdout"
        }
      ]
    },
    {
      "cell_type": "code",
      "metadata": {
        "id": "GK1iDgbCscvs"
      },
      "source": [
        "from collections import Counter\r\n",
        "\r\n",
        "import pandas as pd\r\n",
        "import matplotlib.pyplot as plt\r\n",
        "import seaborn as sns"
      ],
      "execution_count": 2,
      "outputs": []
    },
    {
      "cell_type": "code",
      "metadata": {
        "id": "UQRsMQOFsw6H"
      },
      "source": [
        "from sklearn.ensemble import RandomForestClassifier\r\n",
        "from sklearn.metrics import roc_auc_score\r\n",
        "from sklearn.model_selection import train_test_split\r\n",
        "from sklearn.preprocessing import MinMaxScaler\r\n",
        "from sklearn.svm import SVC\r\n"
      ],
      "execution_count": 3,
      "outputs": []
    },
    {
      "cell_type": "code",
      "metadata": {
        "id": "-dLAW2cTs1V-"
      },
      "source": [
        "from imblearn.over_sampling import (\r\n",
        "    SMOTE,\r\n",
        "    BorderlineSMOTE,\r\n",
        "    SVMSMOTE,\r\n",
        ")\r\n",
        "\r\n",
        "from imblearn.datasets import fetch_datasets\r\n",
        "\r\n",
        "from imblearn.under_sampling import EditedNearestNeighbours, TomekLinks\r\n",
        "\r\n",
        "from imblearn.combine import SMOTEENN, SMOTETomek"
      ],
      "execution_count": 4,
      "outputs": []
    },
    {
      "cell_type": "code",
      "metadata": {
        "id": "Jsxf0aQYuBzI"
      },
      "source": [
        "oversampler_dict = {\r\n",
        "    'svm': SVMSMOTE(\r\n",
        "        sampling_strategy='auto',\r\n",
        "        random_state=0,\r\n",
        "        k_neighbors=5,\r\n",
        "        m_neighbors=10,\r\n",
        "        n_jobs=4,\r\n",
        "        svm_estimator=SVC(kernel='linear')),\r\n",
        "      \r\n",
        "    'border1': BorderlineSMOTE(\r\n",
        "        sampling_strategy='auto',\r\n",
        "        random_state=0,\r\n",
        "        k_neighbors=5,\r\n",
        "        m_neighbors=10,\r\n",
        "        kind='borderline-1',\r\n",
        "        n_jobs=4),\r\n",
        "      \r\n",
        "    'smote': SMOTE(\r\n",
        "        sampling_strategy='auto',\r\n",
        "        random_state=0,\r\n",
        "        k_neighbors=5,\r\n",
        "        n_jobs=4),\r\n",
        "\r\n",
        "    'smenn': SMOTEENN(\r\n",
        "        sampling_strategy='auto',\r\n",
        "        random_state=0,\r\n",
        "        smote=SMOTE(sampling_strategy='auto', random_state=0, k_neighbors=5),\r\n",
        "        enn=EditedNearestNeighbours(\r\n",
        "            sampling_strategy='auto', n_neighbors=3, kind_sel='all'),\r\n",
        "        n_jobs=4),\r\n",
        "\r\n",
        "    'smtomek': SMOTETomek(\r\n",
        "        sampling_strategy='auto',\r\n",
        "        random_state=0,\r\n",
        "        smote=SMOTE(sampling_strategy='auto', random_state=0, k_neighbors=5),\r\n",
        "        tomek=TomekLinks(sampling_strategy='all'),\r\n",
        "        n_jobs=4),\r\n",
        "}"
      ],
      "execution_count": 5,
      "outputs": []
    },
    {
      "cell_type": "markdown",
      "metadata": {
        "id": "TiVxAj-yyWIH"
      },
      "source": [
        "Fetching Datasets from imblearn"
      ]
    },
    {
      "cell_type": "code",
      "metadata": {
        "id": "6p65ii9xyEcR"
      },
      "source": [
        "datasets_ls = [\r\n",
        "    'car_eval_34',\r\n",
        "    'thyroid_sick',\r\n",
        "    'arrhythmia'\r\n",
        "    ]\r\n"
      ],
      "execution_count": 6,
      "outputs": []
    },
    {
      "cell_type": "markdown",
      "metadata": {
        "id": "Pded7Kkuyri-"
      },
      "source": [
        "Print Class Imbalance in Dataset"
      ]
    },
    {
      "cell_type": "code",
      "metadata": {
        "colab": {
          "base_uri": "https://localhost:8080/"
        },
        "id": "vwvdOCj3yl6v",
        "outputId": "fbffe3bb-0234-416e-8ac4-15645986a764"
      },
      "source": [
        "for dataset in datasets_ls:\r\n",
        "    data = fetch_datasets()[dataset]\r\n",
        "    print(dataset)\r\n",
        "    print(Counter(data.target))\r\n",
        "    print()"
      ],
      "execution_count": 7,
      "outputs": [
        {
          "output_type": "stream",
          "text": [
            "car_eval_34\n",
            "Counter({-1: 1594, 1: 134})\n",
            "\n",
            "thyroid_sick\n",
            "Counter({-1: 3541, 1: 231})\n",
            "\n",
            "arrhythmia\n",
            "Counter({-1: 427, 1: 25})\n",
            "\n"
          ],
          "name": "stdout"
        }
      ]
    },
    {
      "cell_type": "markdown",
      "metadata": {
        "id": "RBJmDpUwy2zm"
      },
      "source": [
        "Function to train Random Forest and evaluate performance"
      ]
    },
    {
      "cell_type": "code",
      "metadata": {
        "id": "gjl2CmeCy_i5"
      },
      "source": [
        "def run_randomForests(X_train, X_test, y_train, y_test):\r\n",
        "\r\n",
        "    rf = RandomForestClassifier(\r\n",
        "        n_estimators=100, random_state=39, max_depth=2, n_jobs=4)\r\n",
        "    rf.fit(X_train, y_train)\r\n",
        "\r\n",
        "    print('Train set')\r\n",
        "    pred = rf.predict_proba(X_train)\r\n",
        "    print(\r\n",
        "        'Random Forests roc-auc: {}'.format(roc_auc_score(y_train, pred[:, 1])))\r\n",
        "\r\n",
        "    print('Test set')\r\n",
        "    pred = rf.predict_proba(X_test)\r\n",
        "    print(\r\n",
        "        'Random Forests roc-auc: {}'.format(roc_auc_score(y_test, pred[:, 1])))\r\n",
        "\r\n",
        "    return roc_auc_score(y_test, pred[:, 1])"
      ],
      "execution_count": 8,
      "outputs": []
    },
    {
      "cell_type": "code",
      "metadata": {
        "colab": {
          "base_uri": "https://localhost:8080/"
        },
        "id": "ijUoPdRIzLvP",
        "outputId": "757f9ed3-cc2f-4ec8-89ba-6eae1c930cc8"
      },
      "source": [
        "for dataset in datasets_ls:\r\n",
        "    \r\n",
        "    \r\n",
        "    print(\"Dataset :\"+dataset)\r\n",
        "    \r\n",
        "    # load dataset\r\n",
        "    data = fetch_datasets()[dataset]\r\n",
        "    \r\n",
        "    # separate train and test\r\n",
        "    X_train, X_test, y_train, y_test = train_test_split(\r\n",
        "    data.data,  \r\n",
        "    data.target, \r\n",
        "    test_size=0.3,\r\n",
        "    random_state=0)\r\n",
        "    \r\n",
        "    # as some oversampling techniques use KNN\r\n",
        "    # we set variables in the same scale\r\n",
        "    scaler = MinMaxScaler().fit(X_train)\r\n",
        "    X_train = scaler.transform(X_train)\r\n",
        "    X_test = scaler.transform(X_test)\r\n",
        "        \r\n",
        "    roc = run_randomForests(X_train, X_test, y_train, y_test)\r\n",
        "    \r\n",
        "   \r\n",
        "    \r\n",
        "    print()\r\n",
        "    \r\n",
        "    for oversampler in oversampler_dict.keys():\r\n",
        "        \r\n",
        "        print(oversampler)\r\n",
        "        \r\n",
        "        # resample\r\n",
        "        X_resampled, y_resampled = oversampler_dict[oversampler].fit_resample(X_train, y_train)\r\n",
        "        \r\n",
        "        # evaluate performance\r\n",
        "        roc = run_randomForests(X_resampled, X_test, y_resampled, y_test)\r\n",
        "        \r\n",
        "        \r\n",
        "        print()\r\n",
        "        \r\n",
        "    print()"
      ],
      "execution_count": 11,
      "outputs": [
        {
          "output_type": "stream",
          "text": [
            "Dataset :car_eval_34\n",
            "Train set\n",
            "Random Forests roc-auc: 0.9581261802905924\n",
            "Test set\n",
            "Random Forests roc-auc: 0.9440504133074803\n",
            "\n",
            "svm\n",
            "Train set\n",
            "Random Forests roc-auc: 0.9868208913040686\n",
            "Test set\n",
            "Random Forests roc-auc: 0.9754056536381264\n",
            "\n",
            "border1\n",
            "Train set\n",
            "Random Forests roc-auc: 0.9889084801068846\n",
            "Test set\n",
            "Random Forests roc-auc: 0.9839524441269516\n",
            "\n",
            "smote\n",
            "Train set\n",
            "Random Forests roc-auc: 0.9898270191801236\n",
            "Test set\n",
            "Random Forests roc-auc: 0.9777018063067661\n",
            "\n",
            "smenn\n",
            "Train set\n",
            "Random Forests roc-auc: 0.9885568016854871\n",
            "Test set\n",
            "Random Forests roc-auc: 0.9751505255638331\n",
            "\n",
            "smtomek\n",
            "Train set\n",
            "Random Forests roc-auc: 0.9898270191801236\n",
            "Test set\n",
            "Random Forests roc-auc: 0.9777018063067661\n",
            "\n",
            "\n",
            "Dataset :thyroid_sick\n",
            "Train set\n",
            "Random Forests roc-auc: 0.9646448684059303\n",
            "Test set\n",
            "Random Forests roc-auc: 0.9521203914568843\n",
            "\n",
            "svm\n",
            "Train set\n",
            "Random Forests roc-auc: 0.9694301766481193\n",
            "Test set\n",
            "Random Forests roc-auc: 0.9401797254877824\n",
            "\n",
            "border1\n",
            "Train set\n",
            "Random Forests roc-auc: 0.9617160200097215\n",
            "Test set\n",
            "Random Forests roc-auc: 0.9432572167169323\n",
            "\n",
            "smote\n",
            "Train set\n",
            "Random Forests roc-auc: 0.9605968807461769\n",
            "Test set\n",
            "Random Forests roc-auc: 0.9487843909644857\n",
            "\n",
            "smenn\n",
            "Train set\n",
            "Random Forests roc-auc: 0.9608931138808913\n",
            "Test set\n",
            "Random Forests roc-auc: 0.9477072690342832\n",
            "\n",
            "smtomek\n",
            "Train set\n",
            "Random Forests roc-auc: 0.9596432542432676\n",
            "Test set\n",
            "Random Forests roc-auc: 0.947190250507786\n",
            "\n",
            "\n",
            "Dataset :arrhythmia\n",
            "Train set\n",
            "Random Forests roc-auc: 0.9931143025772182\n",
            "Test set\n",
            "Random Forests roc-auc: 0.8515625\n",
            "\n",
            "svm\n",
            "Train set\n",
            "Random Forests roc-auc: 0.9983006417789027\n",
            "Test set\n",
            "Random Forests roc-auc: 0.8955078125\n",
            "\n",
            "border1\n",
            "Train set\n",
            "Random Forests roc-auc: 0.9985123208912652\n",
            "Test set\n",
            "Random Forests roc-auc: 0.796875\n",
            "\n",
            "smote\n",
            "Train set\n",
            "Random Forests roc-auc: 0.9987919598214785\n",
            "Test set\n",
            "Random Forests roc-auc: 0.908203125\n",
            "\n",
            "smenn\n",
            "Train set\n",
            "Random Forests roc-auc: 0.9994407221395734\n",
            "Test set\n",
            "Random Forests roc-auc: 0.9384765625\n",
            "\n",
            "smtomek\n",
            "Train set\n",
            "Random Forests roc-auc: 0.9987919598214785\n",
            "Test set\n",
            "Random Forests roc-auc: 0.908203125\n",
            "\n",
            "\n"
          ],
          "name": "stdout"
        }
      ]
    }
  ]
}